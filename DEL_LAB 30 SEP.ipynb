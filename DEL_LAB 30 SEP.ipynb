{
 "cells": [
  {
   "cell_type": "code",
   "execution_count": 10,
   "id": "2c39ecd0",
   "metadata": {},
   "outputs": [
    {
     "name": "stdout",
     "output_type": "stream",
     "text": [
      "Applying Sigmoid Activation on (-9.0) gives 0.0\n",
      "Applying Threshold Activation on (-9.0) gives 0.0\n",
      "Applying Tanh Activation on (-9.0) gives -1.0\n",
      "Applying Tanh Activation on (-9.0) gives 0.0\n",
      "Applying Tanh Activation on (-9.0) gives -0.1\n",
      "\t\n",
      "Applying Sigmoid Activation on (2.2) gives 0.9\n",
      "Applying Threshold Activation on (2.2) gives 1.0\n",
      "Applying Tanh Activation on (2.2) gives 1.0\n",
      "Applying Tanh Activation on (2.2) gives 2.2\n",
      "Applying Tanh Activation on (2.2) gives 0.0\n"
     ]
    }
   ],
   "source": [
    "import numpy as np\n",
    "def threshold(v):\n",
    "    if v>0:\n",
    "        return 1\n",
    "    else:\n",
    "        return 0\n",
    "\n",
    "def sigmoid(x):\n",
    "     return 1/(1 + np.exp(-x))\n",
    "\n",
    "def tanh(x):\n",
    "    return (np.exp(x)-np.exp(-x))/(np.exp(x)+np.exp(-x))\n",
    "\n",
    "def relu(x):\n",
    "    return max(0,x)\n",
    "\n",
    "def leakyrelu(x):\n",
    "    return 0.01*x\n",
    "\n",
    "x = -9.0\n",
    "y = 2.2\n",
    "print('Applying Sigmoid Activation on (%.1f) gives %.1f' % (x, sigmoid(x)))\n",
    "print('Applying Threshold Activation on (%.1f) gives %.1f' % (x,threshold(x)))\n",
    "print('Applying Tanh Activation on (%.1f) gives %.1f' % (x,tanh(x)))\n",
    "print('Applying Tanh Activation on (%.1f) gives %.1f' % (x,relu(x)))\n",
    "print('Applying Tanh Activation on (%.1f) gives %.1f' % (x,leakyrelu(x)))\n",
    "print(\"\\t\")\n",
    "print('Applying Sigmoid Activation on (%.1f) gives %.1f' % (y, sigmoid(y)))\n",
    "print('Applying Threshold Activation on (%.1f) gives %.1f' % (y,threshold(y)))\n",
    "print('Applying Tanh Activation on (%.1f) gives %.1f' % (y,tanh(y)))\n",
    "print('Applying Tanh Activation on (%.1f) gives %.1f' % (y,relu(y)))\n",
    "print('Applying Tanh Activation on (%.1f) gives %.1f' % (y,leakyrelu(y)))"
   ]
  },
  {
   "cell_type": "code",
   "execution_count": null,
   "id": "99ced7c5",
   "metadata": {},
   "outputs": [],
   "source": []
  }
 ],
 "metadata": {
  "kernelspec": {
   "display_name": "Python 3 (ipykernel)",
   "language": "python",
   "name": "python3"
  },
  "language_info": {
   "codemirror_mode": {
    "name": "ipython",
    "version": 3
   },
   "file_extension": ".py",
   "mimetype": "text/x-python",
   "name": "python",
   "nbconvert_exporter": "python",
   "pygments_lexer": "ipython3",
   "version": "3.9.12"
  }
 },
 "nbformat": 4,
 "nbformat_minor": 5
}
